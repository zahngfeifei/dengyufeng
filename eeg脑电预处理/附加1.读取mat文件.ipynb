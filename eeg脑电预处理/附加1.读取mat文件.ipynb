{
 "cells": [
  {
   "cell_type": "code",
   "id": "75e5e980414ca041",
   "metadata": {
    "collapsed": true,
    "ExecuteTime": {
     "end_time": "2024-08-14T07:52:53.246122Z",
     "start_time": "2024-08-14T07:52:53.238604Z"
    }
   },
   "source": [
    "import scipy.io\n",
    "\n",
    "# 读取MAT文件\n",
    "mat_file_path = r'C:\\Users\\pc\\Desktop\\李佳\\S002\\1_part1.mat'\n",
    "mat_data = scipy.io.loadmat(mat_file_path)\n",
    "\n",
    "# 查看MAT文件中的变量\n",
    "print(mat_data.keys())\n",
    "T1=mat_data['T1']\n",
    "print(T1.shape)"
   ],
   "outputs": [
    {
     "name": "stdout",
     "output_type": "stream",
     "text": [
      "dict_keys(['__header__', '__version__', '__globals__', 'T1'])\n",
      "(21, 64, 961)\n"
     ]
    }
   ],
   "execution_count": 4
  }
 ],
 "metadata": {
  "kernelspec": {
   "display_name": "Python 3",
   "language": "python",
   "name": "python3"
  },
  "language_info": {
   "codemirror_mode": {
    "name": "ipython",
    "version": 2
   },
   "file_extension": ".py",
   "mimetype": "text/x-python",
   "name": "python",
   "nbconvert_exporter": "python",
   "pygments_lexer": "ipython2",
   "version": "2.7.6"
  }
 },
 "nbformat": 4,
 "nbformat_minor": 5
}
