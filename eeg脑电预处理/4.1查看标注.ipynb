{
 "cells": [
  {
   "cell_type": "code",
   "id": "initial_id",
   "metadata": {
    "collapsed": true,
    "ExecuteTime": {
     "end_time": "2024-08-14T01:46:53.645392Z",
     "start_time": "2024-08-14T01:46:31.629634Z"
    }
   },
   "source": [
    "import mne\n",
    "import tkinter as tk\n",
    "from tkinter import filedialog, messagebox\n",
    "from collections import Counter\n",
    "\"\"\"\n",
    "  * @author: dengyufeng\n",
    "  * @Created on 2024/8/14 9:42\n",
    " \"\"\"\n",
    "# 创建GUI应用程序\n",
    "root = tk.Tk()\n",
    "root.title('EEG数据标注检查工具')\n",
    "\n",
    "# 定义一个函数来加载并检查标注信息\n",
    "def check_annotations(file_format):\n",
    "    filetypes = [(f\"{file_format.upper()} files\", f\"*.{file_format}\")]\n",
    "    file_path = filedialog.askopenfilename(filetypes=filetypes)\n",
    "    \n",
    "    if file_path:\n",
    "        try:\n",
    "            # 根据不同格式加载文件\n",
    "            if file_format == 'edf':\n",
    "                raw = mne.io.read_raw_edf(file_path, preload=True)\n",
    "            elif file_format == 'bdf':\n",
    "                raw = mne.io.read_raw_bdf(file_path, preload=True)\n",
    "            elif file_format == 'fif':\n",
    "                raw = mne.io.read_raw_fif(file_path, preload=True)\n",
    "            else:\n",
    "                raise ValueError(\"不支持的文件格式\")\n",
    "            \n",
    "            # 检查标注信息，并按发生时间排序\n",
    "            annotations = raw.annotations\n",
    "            if annotations:\n",
    "                sorted_annotations = sorted(annotations, key=lambda x: x['onset'])\n",
    "                \n",
    "                # 统计每种标记的数量\n",
    "                descriptions = [annot['description'] for annot in sorted_annotations]\n",
    "                counts = Counter(descriptions)\n",
    "                \n",
    "                # 生成展示信息\n",
    "                lines = []\n",
    "                \n",
    "                # 添加标注信息和时间间隔并排显示\n",
    "                lines.append(\"标注信息按时间排序（标记 - 时间间隔）:\")\n",
    "                for i in range(len(sorted_annotations)):\n",
    "                    annot = sorted_annotations[i]\n",
    "                    # 当前标记描述\n",
    "                    current_line = f\"标记 {i+1}: {annot['description']} (时间={annot['onset']:.2f}秒)\"\n",
    "                    # 如果不是最后一个标记，添加到下一个标记的时间间隔\n",
    "                    if i < len(sorted_annotations) - 1:\n",
    "                        interval = sorted_annotations[i + 1]['onset'] - annot['onset']\n",
    "                        current_line += f\" - 间隔: {interval:.2f}秒\"\n",
    "                    lines.append(current_line)\n",
    "                \n",
    "                # 添加标记数量信息\n",
    "                lines.append(\"\\n标记数量:\")\n",
    "                for desc, count in counts.items():\n",
    "                    lines.append(f\"标记 '{desc}': {count} 次\")\n",
    "                \n",
    "                # 将所有内容拼接为一个字符串\n",
    "                info_display = \"\\n\".join(lines)\n",
    "                \n",
    "                messagebox.showinfo(\"标注信息\", info_display)\n",
    "            else:\n",
    "                messagebox.showinfo(\"结果\", \"没有标注信息。\")\n",
    "        \n",
    "        except Exception as e:\n",
    "            messagebox.showerror(\"错误\", f\"加载{file_format.upper()}文件失败: {e}\")\n",
    "\n",
    "# 创建按钮以选择不同格式的EEG文件并检查标注信息\n",
    "button_edf = tk.Button(root, text=\"选择EDF文件并检查标注信息\", command=lambda: check_annotations('edf'))\n",
    "button_edf.pack(pady=10)\n",
    "\n",
    "button_bdf = tk.Button(root, text=\"选择BDF文件并检查标注信息\", command=lambda: check_annotations('bdf'))\n",
    "button_bdf.pack(pady=10)\n",
    "\n",
    "button_fif = tk.Button(root, text=\"选择FIF文件并检查标注信息\", command=lambda: check_annotations('fif'))\n",
    "button_fif.pack(pady=10)\n",
    "\n",
    "# 添加关闭按钮\n",
    "close_button = tk.Button(root, text=\"关闭\", command=root.destroy)\n",
    "close_button.pack(pady=20)\n",
    "\n",
    "# 运行GUI主循环\n",
    "root.mainloop()\n"
   ],
   "outputs": [
    {
     "name": "stdout",
     "output_type": "stream",
     "text": [
      "Extracting EDF parameters from C:\\Users\\pc\\Desktop\\李佳\\S002\\S002R04.edf...\n",
      "EDF file detected\n",
      "Setting channel info structure...\n",
      "Creating raw.info structure...\n",
      "Reading 0 ... 19679  =      0.000 ...   122.994 secs...\n"
     ]
    }
   ],
   "execution_count": 9
  },
  {
   "metadata": {},
   "cell_type": "code",
   "outputs": [],
   "execution_count": null,
   "source": "",
   "id": "56221a7e4410a636"
  }
 ],
 "metadata": {
  "kernelspec": {
   "display_name": "Python 3",
   "language": "python",
   "name": "python3"
  },
  "language_info": {
   "codemirror_mode": {
    "name": "ipython",
    "version": 2
   },
   "file_extension": ".py",
   "mimetype": "text/x-python",
   "name": "python",
   "nbconvert_exporter": "python",
   "pygments_lexer": "ipython2",
   "version": "2.7.6"
  }
 },
 "nbformat": 4,
 "nbformat_minor": 5
}
