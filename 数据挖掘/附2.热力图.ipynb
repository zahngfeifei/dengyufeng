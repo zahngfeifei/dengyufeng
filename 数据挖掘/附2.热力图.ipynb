{
 "cells": [
  {
   "cell_type": "code",
   "id": "initial_id",
   "metadata": {
    "collapsed": true,
    "ExecuteTime": {
     "end_time": "2024-08-15T10:34:30.251916Z",
     "start_time": "2024-08-15T10:34:11.538444Z"
    }
   },
   "source": [
    "import matplotlib.pyplot as plt\n",
    "import matplotlib\n",
    "import pandas as pd\n",
    "import seaborn as sns\n",
    "matplotlib.use('TkAgg')\n",
    "plt.rcParams['axes.unicode_minus'] = False  \n",
    "# 设置全局字体\n",
    "matplotlib.rcParams['font.family'] = 'SimHei'\n",
    "\n",
    "# 读取 CSV 文件\n",
    "file_path = r'C:\\Users\\pc\\Desktop\\西交数据挖掘\\矩阵相关性1.csv'  # 替换为你的文件路径\n",
    "\n",
    "# 尝试使用不同的编码格式读取文件\n",
    "try:\n",
    "    data = pd.read_csv(file_path, encoding='utf-8')\n",
    "except UnicodeDecodeError:\n",
    "    data = pd.read_csv(file_path, encoding='gbk')\n",
    "\n",
    "# 只保留数值型列（去除非数值型列）\n",
    "data_numeric = data.select_dtypes(include=['number'])\n",
    "\n",
    "# 计算相关性矩阵\n",
    "correlation_matrix = data_numeric.corr()\n",
    "\n",
    "# 绘制热力图\n",
    "plt.figure(figsize=(12, 10))  # 可以调整图形的大小\n",
    "sns.heatmap(correlation_matrix, annot=True, cmap='coolwarm', fmt='.2f')\n",
    "\n",
    "# 设置标题和标签\n",
    "plt.title('特征矩阵相关性热力图')\n",
    "plt.xlabel('Columns')\n",
    "plt.ylabel('Rows')\n",
    "\n",
    "# 显示热力图\n",
    "plt.show(block=True)\n"
   ],
   "outputs": [],
   "execution_count": 4
  },
  {
   "metadata": {},
   "cell_type": "code",
   "outputs": [],
   "execution_count": null,
   "source": "",
   "id": "4bf9468a172c2fd5"
  }
 ],
 "metadata": {
  "kernelspec": {
   "display_name": "Python 3",
   "language": "python",
   "name": "python3"
  },
  "language_info": {
   "codemirror_mode": {
    "name": "ipython",
    "version": 2
   },
   "file_extension": ".py",
   "mimetype": "text/x-python",
   "name": "python",
   "nbconvert_exporter": "python",
   "pygments_lexer": "ipython2",
   "version": "2.7.6"
  }
 },
 "nbformat": 4,
 "nbformat_minor": 5
}
